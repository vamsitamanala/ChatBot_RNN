{
 "cells": [
  {
   "cell_type": "markdown",
   "metadata": {},
   "source": [
    "___\n",
    "\n",
    "<a href='http://www.pieriandata.com'> <img src='../Pierian_Data_Logo.png' /></a>\n",
    "___\n",
    "# Question and Answer Chat Bots"
   ]
  },
  {
   "cell_type": "markdown",
   "metadata": {},
   "source": [
    "----\n",
    "\n",
    "------"
   ]
  },
  {
   "cell_type": "markdown",
   "metadata": {},
   "source": [
    "## Loading the Data\n",
    "\n",
    "We will be working with the Babi Data Set from Facebook Research.\n",
    "\n",
    "Full Details: https://research.fb.com/downloads/babi/\n",
    "\n",
    "- Jason Weston, Antoine Bordes, Sumit Chopra, Tomas Mikolov, Alexander M. Rush,\n",
    "  \"Towards AI-Complete Question Answering: A Set of Prerequisite Toy Tasks\",\n",
    "  http://arxiv.org/abs/1502.05698\n"
   ]
  },
  {
   "cell_type": "code",
   "execution_count": 1,
   "metadata": {},
   "outputs": [],
   "source": [
    "import pickle\n",
    "import numpy as np"
   ]
  },
  {
   "cell_type": "code",
   "execution_count": 2,
   "metadata": {},
   "outputs": [],
   "source": [
    "with open(\"train_qa.txt\", \"rb\") as fp:   # Unpickling\n",
    "    train_data =  pickle.load(fp)"
   ]
  },
  {
   "cell_type": "code",
   "execution_count": 3,
   "metadata": {},
   "outputs": [],
   "source": [
    "with open(\"test_qa.txt\", \"rb\") as fp:   # Unpickling\n",
    "    test_data =  pickle.load(fp)"
   ]
  },
  {
   "cell_type": "markdown",
   "metadata": {},
   "source": [
    "----"
   ]
  },
  {
   "cell_type": "markdown",
   "metadata": {},
   "source": [
    "## Exploring the Format of the Data"
   ]
  },
  {
   "cell_type": "code",
   "execution_count": 4,
   "metadata": {},
   "outputs": [
    {
     "data": {
      "text/plain": [
       "list"
      ]
     },
     "execution_count": 4,
     "metadata": {},
     "output_type": "execute_result"
    }
   ],
   "source": [
    "type(test_data)"
   ]
  },
  {
   "cell_type": "code",
   "execution_count": 5,
   "metadata": {},
   "outputs": [
    {
     "data": {
      "text/plain": [
       "list"
      ]
     },
     "execution_count": 5,
     "metadata": {},
     "output_type": "execute_result"
    }
   ],
   "source": [
    "type(train_data)"
   ]
  },
  {
   "cell_type": "code",
   "execution_count": 6,
   "metadata": {},
   "outputs": [
    {
     "data": {
      "text/plain": [
       "1000"
      ]
     },
     "execution_count": 6,
     "metadata": {},
     "output_type": "execute_result"
    }
   ],
   "source": [
    "len(test_data)"
   ]
  },
  {
   "cell_type": "code",
   "execution_count": 7,
   "metadata": {},
   "outputs": [
    {
     "data": {
      "text/plain": [
       "10000"
      ]
     },
     "execution_count": 7,
     "metadata": {},
     "output_type": "execute_result"
    }
   ],
   "source": [
    "len(train_data)"
   ]
  },
  {
   "cell_type": "code",
   "execution_count": 8,
   "metadata": {},
   "outputs": [
    {
     "data": {
      "text/plain": [
       "(['Mary',\n",
       "  'moved',\n",
       "  'to',\n",
       "  'the',\n",
       "  'bathroom',\n",
       "  '.',\n",
       "  'Sandra',\n",
       "  'journeyed',\n",
       "  'to',\n",
       "  'the',\n",
       "  'bedroom',\n",
       "  '.'],\n",
       " ['Is', 'Sandra', 'in', 'the', 'hallway', '?'],\n",
       " 'no')"
      ]
     },
     "execution_count": 8,
     "metadata": {},
     "output_type": "execute_result"
    }
   ],
   "source": [
    "train_data[0]"
   ]
  },
  {
   "cell_type": "code",
   "execution_count": 9,
   "metadata": {},
   "outputs": [
    {
     "data": {
      "text/plain": [
       "'Mary moved to the bathroom . Sandra journeyed to the bedroom .'"
      ]
     },
     "execution_count": 9,
     "metadata": {},
     "output_type": "execute_result"
    }
   ],
   "source": [
    "' '.join(train_data[0][0])"
   ]
  },
  {
   "cell_type": "code",
   "execution_count": 10,
   "metadata": {},
   "outputs": [
    {
     "data": {
      "text/plain": [
       "'Is Sandra in the hallway ?'"
      ]
     },
     "execution_count": 10,
     "metadata": {},
     "output_type": "execute_result"
    }
   ],
   "source": [
    "' '.join(train_data[0][1])"
   ]
  },
  {
   "cell_type": "code",
   "execution_count": 11,
   "metadata": {},
   "outputs": [
    {
     "data": {
      "text/plain": [
       "'no'"
      ]
     },
     "execution_count": 11,
     "metadata": {},
     "output_type": "execute_result"
    }
   ],
   "source": [
    "train_data[0][2]"
   ]
  },
  {
   "cell_type": "markdown",
   "metadata": {},
   "source": [
    "-----\n",
    "\n",
    "## Setting up Vocabulary of All Words"
   ]
  },
  {
   "cell_type": "code",
   "execution_count": 12,
   "metadata": {},
   "outputs": [],
   "source": [
    "# Create a set that holds the vocab words\n",
    "vocab = set()"
   ]
  },
  {
   "cell_type": "code",
   "execution_count": 13,
   "metadata": {},
   "outputs": [],
   "source": [
    "all_data = test_data + train_data"
   ]
  },
  {
   "cell_type": "code",
   "execution_count": 14,
   "metadata": {},
   "outputs": [],
   "source": [
    "for story, question , answer in all_data:\n",
    "    # In case you don't know what a union of sets is:\n",
    "    # https://www.programiz.com/python-programming/methods/set/union\n",
    "    vocab = vocab.union(set(story))\n",
    "    vocab = vocab.union(set(question))"
   ]
  },
  {
   "cell_type": "code",
   "execution_count": 15,
   "metadata": {},
   "outputs": [],
   "source": [
    "vocab.add('no')\n",
    "vocab.add('yes')"
   ]
  },
  {
   "cell_type": "code",
   "execution_count": 16,
   "metadata": {},
   "outputs": [
    {
     "data": {
      "text/plain": [
       "{'.',\n",
       " '?',\n",
       " 'Daniel',\n",
       " 'Is',\n",
       " 'John',\n",
       " 'Mary',\n",
       " 'Sandra',\n",
       " 'apple',\n",
       " 'back',\n",
       " 'bathroom',\n",
       " 'bedroom',\n",
       " 'discarded',\n",
       " 'down',\n",
       " 'dropped',\n",
       " 'football',\n",
       " 'garden',\n",
       " 'got',\n",
       " 'grabbed',\n",
       " 'hallway',\n",
       " 'in',\n",
       " 'journeyed',\n",
       " 'kitchen',\n",
       " 'left',\n",
       " 'milk',\n",
       " 'moved',\n",
       " 'no',\n",
       " 'office',\n",
       " 'picked',\n",
       " 'put',\n",
       " 'the',\n",
       " 'there',\n",
       " 'to',\n",
       " 'took',\n",
       " 'travelled',\n",
       " 'up',\n",
       " 'went',\n",
       " 'yes'}"
      ]
     },
     "execution_count": 16,
     "metadata": {},
     "output_type": "execute_result"
    }
   ],
   "source": [
    "vocab"
   ]
  },
  {
   "cell_type": "code",
   "execution_count": 17,
   "metadata": {},
   "outputs": [],
   "source": [
    "vocab_len = len(vocab) + 1 #we add an extra space to hold a 0 for Keras's pad_sequences"
   ]
  },
  {
   "cell_type": "code",
   "execution_count": 18,
   "metadata": {},
   "outputs": [],
   "source": [
    "max_story_len = max([len(data[0]) for data in all_data])"
   ]
  },
  {
   "cell_type": "code",
   "execution_count": 19,
   "metadata": {},
   "outputs": [
    {
     "data": {
      "text/plain": [
       "156"
      ]
     },
     "execution_count": 19,
     "metadata": {},
     "output_type": "execute_result"
    }
   ],
   "source": [
    "max_story_len"
   ]
  },
  {
   "cell_type": "code",
   "execution_count": 20,
   "metadata": {},
   "outputs": [],
   "source": [
    "max_question_len = max([len(data[1]) for data in all_data])"
   ]
  },
  {
   "cell_type": "code",
   "execution_count": 21,
   "metadata": {},
   "outputs": [
    {
     "data": {
      "text/plain": [
       "6"
      ]
     },
     "execution_count": 21,
     "metadata": {},
     "output_type": "execute_result"
    }
   ],
   "source": [
    "max_question_len"
   ]
  },
  {
   "cell_type": "markdown",
   "metadata": {},
   "source": [
    "## Vectorizing the Data"
   ]
  },
  {
   "cell_type": "code",
   "execution_count": 22,
   "metadata": {},
   "outputs": [
    {
     "data": {
      "text/plain": [
       "{'.',\n",
       " '?',\n",
       " 'Daniel',\n",
       " 'Is',\n",
       " 'John',\n",
       " 'Mary',\n",
       " 'Sandra',\n",
       " 'apple',\n",
       " 'back',\n",
       " 'bathroom',\n",
       " 'bedroom',\n",
       " 'discarded',\n",
       " 'down',\n",
       " 'dropped',\n",
       " 'football',\n",
       " 'garden',\n",
       " 'got',\n",
       " 'grabbed',\n",
       " 'hallway',\n",
       " 'in',\n",
       " 'journeyed',\n",
       " 'kitchen',\n",
       " 'left',\n",
       " 'milk',\n",
       " 'moved',\n",
       " 'no',\n",
       " 'office',\n",
       " 'picked',\n",
       " 'put',\n",
       " 'the',\n",
       " 'there',\n",
       " 'to',\n",
       " 'took',\n",
       " 'travelled',\n",
       " 'up',\n",
       " 'went',\n",
       " 'yes'}"
      ]
     },
     "execution_count": 22,
     "metadata": {},
     "output_type": "execute_result"
    }
   ],
   "source": [
    "vocab"
   ]
  },
  {
   "cell_type": "code",
   "execution_count": 23,
   "metadata": {},
   "outputs": [],
   "source": [
    "# Reserve 0 for pad_sequences\n",
    "vocab_size = len(vocab) + 1"
   ]
  },
  {
   "cell_type": "markdown",
   "metadata": {},
   "source": [
    "-----------"
   ]
  },
  {
   "cell_type": "code",
   "execution_count": 26,
   "metadata": {},
   "outputs": [
    {
     "name": "stderr",
     "output_type": "stream",
     "text": [
      "Using TensorFlow backend.\n"
     ]
    }
   ],
   "source": [
    "from keras.preprocessing.sequence import pad_sequences\n",
    "from keras.preprocessing.text import Tokenizer"
   ]
  },
  {
   "cell_type": "code",
   "execution_count": 27,
   "metadata": {},
   "outputs": [],
   "source": [
    "# integer encode sequences of words\n",
    "tokenizer = Tokenizer(filters=[])\n",
    "tokenizer.fit_on_texts(vocab)"
   ]
  },
  {
   "cell_type": "code",
   "execution_count": 28,
   "metadata": {},
   "outputs": [
    {
     "data": {
      "text/plain": [
       "{'bedroom': 1,\n",
       " 'down': 2,\n",
       " 'back': 3,\n",
       " 'discarded': 4,\n",
       " 'left': 5,\n",
       " 'dropped': 6,\n",
       " 'apple': 7,\n",
       " 'is': 8,\n",
       " 'milk': 9,\n",
       " 'mary': 10,\n",
       " 'no': 11,\n",
       " 'put': 12,\n",
       " 'kitchen': 13,\n",
       " 'took': 14,\n",
       " 'there': 15,\n",
       " '.': 16,\n",
       " 'garden': 17,\n",
       " 'yes': 18,\n",
       " 'bathroom': 19,\n",
       " 'grabbed': 20,\n",
       " 'picked': 21,\n",
       " '?': 22,\n",
       " 'got': 23,\n",
       " 'the': 24,\n",
       " 'went': 25,\n",
       " 'up': 26,\n",
       " 'sandra': 27,\n",
       " 'in': 28,\n",
       " 'travelled': 29,\n",
       " 'moved': 30,\n",
       " 'john': 31,\n",
       " 'office': 32,\n",
       " 'to': 33,\n",
       " 'hallway': 34,\n",
       " 'football': 35,\n",
       " 'daniel': 36,\n",
       " 'journeyed': 37}"
      ]
     },
     "execution_count": 28,
     "metadata": {},
     "output_type": "execute_result"
    }
   ],
   "source": [
    "tokenizer.word_index"
   ]
  },
  {
   "cell_type": "code",
   "execution_count": 29,
   "metadata": {},
   "outputs": [],
   "source": [
    "train_story_text = []\n",
    "train_question_text = []\n",
    "train_answers = []\n",
    "\n",
    "for story,question,answer in train_data:\n",
    "    train_story_text.append(story)\n",
    "    train_question_text.append(question)"
   ]
  },
  {
   "cell_type": "code",
   "execution_count": 30,
   "metadata": {},
   "outputs": [],
   "source": [
    "train_story_seq = tokenizer.texts_to_sequences(train_story_text)"
   ]
  },
  {
   "cell_type": "code",
   "execution_count": 31,
   "metadata": {},
   "outputs": [
    {
     "data": {
      "text/plain": [
       "10000"
      ]
     },
     "execution_count": 31,
     "metadata": {},
     "output_type": "execute_result"
    }
   ],
   "source": [
    "len(train_story_text)"
   ]
  },
  {
   "cell_type": "code",
   "execution_count": 32,
   "metadata": {},
   "outputs": [
    {
     "data": {
      "text/plain": [
       "10000"
      ]
     },
     "execution_count": 32,
     "metadata": {},
     "output_type": "execute_result"
    }
   ],
   "source": [
    "len(train_story_seq)"
   ]
  },
  {
   "cell_type": "code",
   "execution_count": 31,
   "metadata": {
    "collapsed": true
   },
   "outputs": [],
   "source": [
    "# word_index = tokenizer.word_index"
   ]
  },
  {
   "cell_type": "markdown",
   "metadata": {},
   "source": [
    "### Functionalize Vectorization"
   ]
  },
  {
   "cell_type": "code",
   "execution_count": 33,
   "metadata": {},
   "outputs": [],
   "source": [
    "def vectorize_stories(data, word_index=tokenizer.word_index, max_story_len=max_story_len,max_question_len=max_question_len):\n",
    "    '''\n",
    "    INPUT: \n",
    "    \n",
    "    data: consisting of Stories,Queries,and Answers\n",
    "    word_index: word index dictionary from tokenizer\n",
    "    max_story_len: the length of the longest story (used for pad_sequences function)\n",
    "    max_question_len: length of the longest question (used for pad_sequences function)\n",
    "\n",
    "\n",
    "    OUTPUT:\n",
    "    \n",
    "    Vectorizes the stories,questions, and answers into padded sequences. We first loop for every story, query , and\n",
    "    answer in the data. Then we convert the raw words to an word index value. Then we append each set to their appropriate\n",
    "    output list. Then once we have converted the words to numbers, we pad the sequences so they are all of equal length.\n",
    "    \n",
    "    Returns this in the form of a tuple (X,Xq,Y) (padded based on max lengths)\n",
    "    '''\n",
    "    \n",
    "    \n",
    "    # X = STORIES\n",
    "    X = []\n",
    "    # Xq = QUERY/QUESTION\n",
    "    Xq = []\n",
    "    # Y = CORRECT ANSWER\n",
    "    Y = []\n",
    "    \n",
    "    \n",
    "    for story, query, answer in data:\n",
    "        \n",
    "        # Grab the word index for every word in story\n",
    "        x = [word_index[word.lower()] for word in story]\n",
    "        # Grab the word index for every word in query\n",
    "        xq = [word_index[word.lower()] for word in query]\n",
    "        \n",
    "        # Grab the Answers (either Yes/No so we don't need to use list comprehension here)\n",
    "        # Index 0 is reserved so we're going to use + 1\n",
    "        y = np.zeros(len(word_index) + 1)\n",
    "        \n",
    "        # Now that y is all zeros and we know its just Yes/No , we can use numpy logic to create this assignment\n",
    "        #\n",
    "        y[word_index[answer]] = 1\n",
    "        \n",
    "        # Append each set of story,query, and answer to their respective holding lists\n",
    "        X.append(x)\n",
    "        Xq.append(xq)\n",
    "        Y.append(y)\n",
    "        \n",
    "    # Finally, pad the sequences based on their max length so the RNN can be trained on uniformly long sequences.\n",
    "        \n",
    "    # RETURN TUPLE FOR UNPACKING\n",
    "    return (pad_sequences(X, maxlen=max_story_len),pad_sequences(Xq, maxlen=max_question_len), np.array(Y))"
   ]
  },
  {
   "cell_type": "code",
   "execution_count": 34,
   "metadata": {},
   "outputs": [],
   "source": [
    "inputs_train, queries_train, answers_train = vectorize_stories(train_data)"
   ]
  },
  {
   "cell_type": "code",
   "execution_count": 35,
   "metadata": {},
   "outputs": [],
   "source": [
    "inputs_test, queries_test, answers_test = vectorize_stories(test_data)"
   ]
  },
  {
   "cell_type": "code",
   "execution_count": 36,
   "metadata": {},
   "outputs": [
    {
     "data": {
      "text/plain": [
       "array([[ 0,  0,  0, ..., 24,  1, 16],\n",
       "       [ 0,  0,  0, ..., 24, 17, 16],\n",
       "       [ 0,  0,  0, ..., 24, 17, 16],\n",
       "       ...,\n",
       "       [ 0,  0,  0, ..., 24,  7, 16],\n",
       "       [ 0,  0,  0, ..., 24, 17, 16],\n",
       "       [ 0,  0,  0, ...,  7, 15, 16]])"
      ]
     },
     "execution_count": 36,
     "metadata": {},
     "output_type": "execute_result"
    }
   ],
   "source": [
    "inputs_test"
   ]
  },
  {
   "cell_type": "code",
   "execution_count": 37,
   "metadata": {},
   "outputs": [
    {
     "data": {
      "text/plain": [
       "array([[ 8, 31, 28, 24, 13, 22],\n",
       "       [ 8, 31, 28, 24, 13, 22],\n",
       "       [ 8, 31, 28, 24, 17, 22],\n",
       "       ...,\n",
       "       [ 8, 10, 28, 24,  1, 22],\n",
       "       [ 8, 27, 28, 24, 17, 22],\n",
       "       [ 8, 10, 28, 24, 17, 22]])"
      ]
     },
     "execution_count": 37,
     "metadata": {},
     "output_type": "execute_result"
    }
   ],
   "source": [
    "queries_test"
   ]
  },
  {
   "cell_type": "code",
   "execution_count": 38,
   "metadata": {},
   "outputs": [
    {
     "data": {
      "text/plain": [
       "array([[0., 0., 0., ..., 0., 0., 0.],\n",
       "       [0., 0., 0., ..., 0., 0., 0.],\n",
       "       [0., 0., 0., ..., 0., 0., 0.],\n",
       "       ...,\n",
       "       [0., 0., 0., ..., 0., 0., 0.],\n",
       "       [0., 0., 0., ..., 0., 0., 0.],\n",
       "       [0., 0., 0., ..., 0., 0., 0.]])"
      ]
     },
     "execution_count": 38,
     "metadata": {},
     "output_type": "execute_result"
    }
   ],
   "source": [
    "answers_test"
   ]
  },
  {
   "cell_type": "code",
   "execution_count": 39,
   "metadata": {},
   "outputs": [
    {
     "data": {
      "text/plain": [
       "array([  0.,   0.,   0.,   0.,   0.,   0.,   0.,   0.,   0.,   0.,   0.,\n",
       "       503.,   0.,   0.,   0.,   0.,   0.,   0., 497.,   0.,   0.,   0.,\n",
       "         0.,   0.,   0.,   0.,   0.,   0.,   0.,   0.,   0.,   0.,   0.,\n",
       "         0.,   0.,   0.,   0.,   0.])"
      ]
     },
     "execution_count": 39,
     "metadata": {},
     "output_type": "execute_result"
    }
   ],
   "source": [
    "sum(answers_test)"
   ]
  },
  {
   "cell_type": "code",
   "execution_count": 40,
   "metadata": {},
   "outputs": [
    {
     "data": {
      "text/plain": [
       "18"
      ]
     },
     "execution_count": 40,
     "metadata": {},
     "output_type": "execute_result"
    }
   ],
   "source": [
    "tokenizer.word_index['yes']"
   ]
  },
  {
   "cell_type": "code",
   "execution_count": 41,
   "metadata": {},
   "outputs": [
    {
     "data": {
      "text/plain": [
       "11"
      ]
     },
     "execution_count": 41,
     "metadata": {},
     "output_type": "execute_result"
    }
   ],
   "source": [
    "tokenizer.word_index['no']"
   ]
  },
  {
   "cell_type": "markdown",
   "metadata": {},
   "source": [
    "## Creating the Model"
   ]
  },
  {
   "cell_type": "code",
   "execution_count": 42,
   "metadata": {},
   "outputs": [],
   "source": [
    "from keras.models import Sequential, Model\n",
    "from keras.layers.embeddings import Embedding\n",
    "from keras.layers import Input, Activation, Dense, Permute, Dropout\n",
    "from keras.layers import add, dot, concatenate\n",
    "from keras.layers import LSTM"
   ]
  },
  {
   "cell_type": "markdown",
   "metadata": {},
   "source": [
    "### Placeholders for Inputs\n",
    "\n",
    "Recall we technically have two inputs, stories and questions. So we need to use placeholders. `Input()` is used to instantiate a Keras tensor.\n"
   ]
  },
  {
   "cell_type": "code",
   "execution_count": 43,
   "metadata": {},
   "outputs": [],
   "source": [
    "input_sequence = Input((max_story_len,))\n",
    "question = Input((max_question_len,))"
   ]
  },
  {
   "cell_type": "markdown",
   "metadata": {
    "collapsed": true
   },
   "source": [
    "### Building the Networks\n",
    "\n",
    "To understand why we chose this setup, make sure to read the paper we are using:\n",
    "\n",
    "* Sainbayar Sukhbaatar, Arthur Szlam, Jason Weston, Rob Fergus,\n",
    "  \"End-To-End Memory Networks\",\n",
    "  http://arxiv.org/abs/1503.08895"
   ]
  },
  {
   "cell_type": "markdown",
   "metadata": {},
   "source": [
    "## Encoders\n",
    "\n",
    "### Input Encoder m"
   ]
  },
  {
   "cell_type": "code",
   "execution_count": 44,
   "metadata": {},
   "outputs": [],
   "source": [
    "# Input gets embedded to a sequence of vectors\n",
    "input_encoder_m = Sequential()\n",
    "input_encoder_m.add(Embedding(input_dim=vocab_size,output_dim=64))\n",
    "input_encoder_m.add(Dropout(0.3))\n",
    "\n",
    "# This encoder will output:\n",
    "# (samples, story_maxlen, embedding_dim)"
   ]
  },
  {
   "cell_type": "markdown",
   "metadata": {},
   "source": [
    "### Input Encoder c"
   ]
  },
  {
   "cell_type": "code",
   "execution_count": 45,
   "metadata": {},
   "outputs": [],
   "source": [
    "# embed the input into a sequence of vectors of size query_maxlen\n",
    "input_encoder_c = Sequential()\n",
    "input_encoder_c.add(Embedding(input_dim=vocab_size,output_dim=max_question_len))\n",
    "input_encoder_c.add(Dropout(0.3))\n",
    "# output: (samples, story_maxlen, query_maxlen)"
   ]
  },
  {
   "cell_type": "markdown",
   "metadata": {},
   "source": [
    "### Question Encoder"
   ]
  },
  {
   "cell_type": "code",
   "execution_count": 46,
   "metadata": {},
   "outputs": [],
   "source": [
    "# embed the question into a sequence of vectors\n",
    "question_encoder = Sequential()\n",
    "question_encoder.add(Embedding(input_dim=vocab_size,\n",
    "                               output_dim=64,\n",
    "                               input_length=max_question_len))\n",
    "question_encoder.add(Dropout(0.3))\n",
    "# output: (samples, query_maxlen, embedding_dim)"
   ]
  },
  {
   "cell_type": "markdown",
   "metadata": {},
   "source": [
    "### Encode the Sequences"
   ]
  },
  {
   "cell_type": "code",
   "execution_count": 47,
   "metadata": {},
   "outputs": [],
   "source": [
    "# encode input sequence and questions (which are indices)\n",
    "# to sequences of dense vectors\n",
    "input_encoded_m = input_encoder_m(input_sequence)\n",
    "input_encoded_c = input_encoder_c(input_sequence)\n",
    "question_encoded = question_encoder(question)"
   ]
  },
  {
   "cell_type": "markdown",
   "metadata": {},
   "source": [
    "##### Use dot product to compute the match between first input vector seq and the query"
   ]
  },
  {
   "cell_type": "code",
   "execution_count": 48,
   "metadata": {},
   "outputs": [],
   "source": [
    "# shape: `(samples, story_maxlen, query_maxlen)`\n",
    "match = dot([input_encoded_m, question_encoded], axes=(2, 2))\n",
    "match = Activation('softmax')(match)"
   ]
  },
  {
   "cell_type": "markdown",
   "metadata": {},
   "source": [
    "#### Add this match matrix with the second input vector sequence"
   ]
  },
  {
   "cell_type": "code",
   "execution_count": 49,
   "metadata": {},
   "outputs": [],
   "source": [
    "# add the match matrix with the second input vector sequence\n",
    "response = add([match, input_encoded_c])  # (samples, story_maxlen, query_maxlen)\n",
    "response = Permute((2, 1))(response)  # (samples, query_maxlen, story_maxlen)"
   ]
  },
  {
   "cell_type": "markdown",
   "metadata": {},
   "source": [
    "#### Concatenate"
   ]
  },
  {
   "cell_type": "code",
   "execution_count": 50,
   "metadata": {},
   "outputs": [],
   "source": [
    "# concatenate the match matrix with the question vector sequence\n",
    "answer = concatenate([response, question_encoded])"
   ]
  },
  {
   "cell_type": "code",
   "execution_count": 51,
   "metadata": {},
   "outputs": [
    {
     "data": {
      "text/plain": [
       "<tf.Tensor 'concatenate_1/concat:0' shape=(None, 6, 220) dtype=float32>"
      ]
     },
     "execution_count": 51,
     "metadata": {},
     "output_type": "execute_result"
    }
   ],
   "source": [
    "answer"
   ]
  },
  {
   "cell_type": "code",
   "execution_count": 52,
   "metadata": {},
   "outputs": [],
   "source": [
    "# Reduce with RNN (LSTM)\n",
    "answer = LSTM(32)(answer)  # (samples, 32)"
   ]
  },
  {
   "cell_type": "code",
   "execution_count": 53,
   "metadata": {},
   "outputs": [],
   "source": [
    "# Regularization with Dropout\n",
    "answer = Dropout(0.5)(answer)\n",
    "answer = Dense(vocab_size)(answer)  # (samples, vocab_size)"
   ]
  },
  {
   "cell_type": "code",
   "execution_count": 54,
   "metadata": {},
   "outputs": [],
   "source": [
    "# we output a probability distribution over the vocabulary\n",
    "answer = Activation('softmax')(answer)\n",
    "\n",
    "# build the final model\n",
    "model = Model([input_sequence, question], answer)\n",
    "model.compile(optimizer='rmsprop', loss='categorical_crossentropy',\n",
    "              metrics=['accuracy'])"
   ]
  },
  {
   "cell_type": "code",
   "execution_count": 55,
   "metadata": {},
   "outputs": [
    {
     "name": "stdout",
     "output_type": "stream",
     "text": [
      "Model: \"model_1\"\n",
      "__________________________________________________________________________________________________\n",
      "Layer (type)                    Output Shape         Param #     Connected to                     \n",
      "==================================================================================================\n",
      "input_1 (InputLayer)            (None, 156)          0                                            \n",
      "__________________________________________________________________________________________________\n",
      "input_2 (InputLayer)            (None, 6)            0                                            \n",
      "__________________________________________________________________________________________________\n",
      "sequential_1 (Sequential)       multiple             2432        input_1[0][0]                    \n",
      "__________________________________________________________________________________________________\n",
      "sequential_3 (Sequential)       (None, 6, 64)        2432        input_2[0][0]                    \n",
      "__________________________________________________________________________________________________\n",
      "dot_1 (Dot)                     (None, 156, 6)       0           sequential_1[1][0]               \n",
      "                                                                 sequential_3[1][0]               \n",
      "__________________________________________________________________________________________________\n",
      "activation_1 (Activation)       (None, 156, 6)       0           dot_1[0][0]                      \n",
      "__________________________________________________________________________________________________\n",
      "sequential_2 (Sequential)       multiple             228         input_1[0][0]                    \n",
      "__________________________________________________________________________________________________\n",
      "add_1 (Add)                     (None, 156, 6)       0           activation_1[0][0]               \n",
      "                                                                 sequential_2[1][0]               \n",
      "__________________________________________________________________________________________________\n",
      "permute_1 (Permute)             (None, 6, 156)       0           add_1[0][0]                      \n",
      "__________________________________________________________________________________________________\n",
      "concatenate_1 (Concatenate)     (None, 6, 220)       0           permute_1[0][0]                  \n",
      "                                                                 sequential_3[1][0]               \n",
      "__________________________________________________________________________________________________\n",
      "lstm_1 (LSTM)                   (None, 32)           32384       concatenate_1[0][0]              \n",
      "__________________________________________________________________________________________________\n",
      "dropout_4 (Dropout)             (None, 32)           0           lstm_1[0][0]                     \n",
      "__________________________________________________________________________________________________\n",
      "dense_1 (Dense)                 (None, 38)           1254        dropout_4[0][0]                  \n",
      "__________________________________________________________________________________________________\n",
      "activation_2 (Activation)       (None, 38)           0           dense_1[0][0]                    \n",
      "==================================================================================================\n",
      "Total params: 38,730\n",
      "Trainable params: 38,730\n",
      "Non-trainable params: 0\n",
      "__________________________________________________________________________________________________\n"
     ]
    }
   ],
   "source": [
    "model.summary()"
   ]
  },
  {
   "cell_type": "code",
   "execution_count": 56,
   "metadata": {},
   "outputs": [
    {
     "name": "stderr",
     "output_type": "stream",
     "text": [
      "C:\\Users\\Prahasith Kondra\\Anaconda3\\lib\\site-packages\\tensorflow_core\\python\\framework\\indexed_slices.py:433: UserWarning: Converting sparse IndexedSlices to a dense Tensor of unknown shape. This may consume a large amount of memory.\n",
      "  \"Converting sparse IndexedSlices to a dense Tensor of unknown shape. \"\n"
     ]
    },
    {
     "name": "stdout",
     "output_type": "stream",
     "text": [
      "Train on 10000 samples, validate on 1000 samples\n",
      "Epoch 1/120\n",
      "10000/10000 [==============================] - 21s 2ms/step - loss: 0.9387 - accuracy: 0.4978 - val_loss: 0.7007 - val_accuracy: 0.4970\n",
      "Epoch 2/120\n",
      "10000/10000 [==============================] - 15s 2ms/step - loss: 0.7064 - accuracy: 0.5114 - val_loss: 0.6940 - val_accuracy: 0.4970\n",
      "Epoch 3/120\n",
      "10000/10000 [==============================] - 15s 2ms/step - loss: 0.6973 - accuracy: 0.4974 - val_loss: 0.6936 - val_accuracy: 0.4970\n",
      "Epoch 4/120\n",
      "10000/10000 [==============================] - 16s 2ms/step - loss: 0.6953 - accuracy: 0.4903 - val_loss: 0.6933 - val_accuracy: 0.5030\n",
      "Epoch 5/120\n",
      "10000/10000 [==============================] - 15s 2ms/step - loss: 0.6951 - accuracy: 0.4969 - val_loss: 0.6951 - val_accuracy: 0.4970\n",
      "Epoch 6/120\n",
      "10000/10000 [==============================] - 15s 2ms/step - loss: 0.6949 - accuracy: 0.4929 - val_loss: 0.6932 - val_accuracy: 0.5030\n",
      "Epoch 7/120\n",
      "10000/10000 [==============================] - 15s 1ms/step - loss: 0.6942 - accuracy: 0.5058 - val_loss: 0.6937 - val_accuracy: 0.5030\n",
      "Epoch 8/120\n",
      "10000/10000 [==============================] - 15s 2ms/step - loss: 0.6936 - accuracy: 0.5068 - val_loss: 0.6969 - val_accuracy: 0.4970\n",
      "Epoch 9/120\n",
      "10000/10000 [==============================] - 15s 2ms/step - loss: 0.6880 - accuracy: 0.5309 - val_loss: 0.6728 - val_accuracy: 0.5880\n",
      "Epoch 10/120\n",
      "10000/10000 [==============================] - 15s 2ms/step - loss: 0.6081 - accuracy: 0.6786 - val_loss: 0.5170 - val_accuracy: 0.7620\n",
      "Epoch 11/120\n",
      "10000/10000 [==============================] - 15s 2ms/step - loss: 0.4834 - accuracy: 0.7845 - val_loss: 0.4425 - val_accuracy: 0.8280\n",
      "Epoch 12/120\n",
      "10000/10000 [==============================] - 15s 2ms/step - loss: 0.4362 - accuracy: 0.8215 - val_loss: 0.4154 - val_accuracy: 0.8210\n",
      "Epoch 13/120\n",
      "10000/10000 [==============================] - 15s 2ms/step - loss: 0.4076 - accuracy: 0.8357 - val_loss: 0.4044 - val_accuracy: 0.8380\n",
      "Epoch 14/120\n",
      "10000/10000 [==============================] - 15s 2ms/step - loss: 0.3809 - accuracy: 0.8437 - val_loss: 0.3961 - val_accuracy: 0.8200\n",
      "Epoch 15/120\n",
      "10000/10000 [==============================] - 16s 2ms/step - loss: 0.3612 - accuracy: 0.8487 - val_loss: 0.3730 - val_accuracy: 0.8400\n",
      "Epoch 16/120\n",
      "10000/10000 [==============================] - 15s 2ms/step - loss: 0.3552 - accuracy: 0.8495 - val_loss: 0.3668 - val_accuracy: 0.8360\n",
      "Epoch 17/120\n",
      "10000/10000 [==============================] - 15s 2ms/step - loss: 0.3469 - accuracy: 0.8531 - val_loss: 0.3519 - val_accuracy: 0.8460\n",
      "Epoch 18/120\n",
      "10000/10000 [==============================] - 15s 2ms/step - loss: 0.3332 - accuracy: 0.8563 - val_loss: 0.3508 - val_accuracy: 0.8430\n",
      "Epoch 19/120\n",
      "10000/10000 [==============================] - 15s 2ms/step - loss: 0.3269 - accuracy: 0.8570 - val_loss: 0.3533 - val_accuracy: 0.8470\n",
      "Epoch 20/120\n",
      "10000/10000 [==============================] - 15s 2ms/step - loss: 0.3272 - accuracy: 0.8565 - val_loss: 0.3443 - val_accuracy: 0.8460\n",
      "Epoch 21/120\n",
      "10000/10000 [==============================] - 15s 2ms/step - loss: 0.3192 - accuracy: 0.8605 - val_loss: 0.3450 - val_accuracy: 0.8420\n",
      "Epoch 22/120\n",
      "10000/10000 [==============================] - 15s 2ms/step - loss: 0.3152 - accuracy: 0.8581 - val_loss: 0.3431 - val_accuracy: 0.8460\n",
      "Epoch 23/120\n",
      "10000/10000 [==============================] - 15s 2ms/step - loss: 0.3124 - accuracy: 0.8632 - val_loss: 0.3335 - val_accuracy: 0.8370\n",
      "Epoch 24/120\n",
      "10000/10000 [==============================] - 15s 2ms/step - loss: 0.3083 - accuracy: 0.8667 - val_loss: 0.3406 - val_accuracy: 0.8510\n",
      "Epoch 25/120\n",
      "10000/10000 [==============================] - 15s 2ms/step - loss: 0.3076 - accuracy: 0.8623 - val_loss: 0.3545 - val_accuracy: 0.8430\n",
      "Epoch 26/120\n",
      "10000/10000 [==============================] - 15s 2ms/step - loss: 0.3053 - accuracy: 0.8642 - val_loss: 0.3356 - val_accuracy: 0.8540\n",
      "Epoch 27/120\n",
      "10000/10000 [==============================] - 15s 2ms/step - loss: 0.3011 - accuracy: 0.8677 - val_loss: 0.3370 - val_accuracy: 0.8410\n",
      "Epoch 28/120\n",
      "10000/10000 [==============================] - 16s 2ms/step - loss: 0.3008 - accuracy: 0.8665 - val_loss: 0.3516 - val_accuracy: 0.8290\n",
      "Epoch 29/120\n",
      "10000/10000 [==============================] - 15s 2ms/step - loss: 0.3022 - accuracy: 0.8661 - val_loss: 0.3529 - val_accuracy: 0.8400\n",
      "Epoch 30/120\n",
      "10000/10000 [==============================] - 15s 2ms/step - loss: 0.2967 - accuracy: 0.8653 - val_loss: 0.3507 - val_accuracy: 0.8450\n",
      "Epoch 31/120\n",
      "10000/10000 [==============================] - 15s 2ms/step - loss: 0.2972 - accuracy: 0.8684 - val_loss: 0.3470 - val_accuracy: 0.8470\n",
      "Epoch 32/120\n",
      "10000/10000 [==============================] - 16s 2ms/step - loss: 0.2947 - accuracy: 0.8696 - val_loss: 0.3358 - val_accuracy: 0.8380\n",
      "Epoch 33/120\n",
      "10000/10000 [==============================] - 16s 2ms/step - loss: 0.2948 - accuracy: 0.8677 - val_loss: 0.3374 - val_accuracy: 0.8490\n",
      "Epoch 34/120\n",
      "10000/10000 [==============================] - 15s 2ms/step - loss: 0.2941 - accuracy: 0.8671 - val_loss: 0.3307 - val_accuracy: 0.8550\n",
      "Epoch 35/120\n",
      "10000/10000 [==============================] - 15s 1ms/step - loss: 0.2994 - accuracy: 0.8674 - val_loss: 0.3337 - val_accuracy: 0.8500\n",
      "Epoch 36/120\n",
      "10000/10000 [==============================] - 15s 1ms/step - loss: 0.2929 - accuracy: 0.8672 - val_loss: 0.3390 - val_accuracy: 0.8500\n",
      "Epoch 37/120\n",
      "10000/10000 [==============================] - 15s 2ms/step - loss: 0.2924 - accuracy: 0.8682 - val_loss: 0.3390 - val_accuracy: 0.8430\n",
      "Epoch 38/120\n",
      "10000/10000 [==============================] - 15s 2ms/step - loss: 0.2891 - accuracy: 0.8709 - val_loss: 0.3339 - val_accuracy: 0.8490\n",
      "Epoch 39/120\n",
      "10000/10000 [==============================] - 16s 2ms/step - loss: 0.2861 - accuracy: 0.8706 - val_loss: 0.3274 - val_accuracy: 0.8490\n",
      "Epoch 40/120\n",
      "10000/10000 [==============================] - 15s 2ms/step - loss: 0.2887 - accuracy: 0.8687 - val_loss: 0.3364 - val_accuracy: 0.8540\n",
      "Epoch 41/120\n",
      "10000/10000 [==============================] - 15s 2ms/step - loss: 0.2892 - accuracy: 0.8707 - val_loss: 0.3348 - val_accuracy: 0.8520\n",
      "Epoch 42/120\n",
      "10000/10000 [==============================] - 19s 2ms/step - loss: 0.2893 - accuracy: 0.8708 - val_loss: 0.3264 - val_accuracy: 0.8460\n",
      "Epoch 43/120\n",
      "10000/10000 [==============================] - 10815s 1s/step - loss: 0.2882 - accuracy: 0.8740 - val_loss: 0.3379 - val_accuracy: 0.8370\n",
      "Epoch 44/120\n",
      "10000/10000 [==============================] - 15872s 2s/step - loss: 0.2905 - accuracy: 0.8718 - val_loss: 0.3366 - val_accuracy: 0.8550\n",
      "Epoch 45/120\n",
      "10000/10000 [==============================] - 21s 2ms/step - loss: 0.2831 - accuracy: 0.8729 - val_loss: 0.3547 - val_accuracy: 0.8450\n",
      "Epoch 46/120\n",
      "10000/10000 [==============================] - 11s 1ms/step - loss: 0.2839 - accuracy: 0.8729 - val_loss: 0.3681 - val_accuracy: 0.8440\n",
      "Epoch 47/120\n",
      "10000/10000 [==============================] - 12s 1ms/step - loss: 0.2803 - accuracy: 0.8744 - val_loss: 0.3449 - val_accuracy: 0.8450\n",
      "Epoch 48/120\n",
      "10000/10000 [==============================] - 12s 1ms/step - loss: 0.2792 - accuracy: 0.8689 - val_loss: 0.3411 - val_accuracy: 0.8460\n",
      "Epoch 49/120\n",
      "10000/10000 [==============================] - 14s 1ms/step - loss: 0.2796 - accuracy: 0.8744 - val_loss: 0.3508 - val_accuracy: 0.8450\n",
      "Epoch 54/120\n",
      "10000/10000 [==============================] - 14s 1ms/step - loss: 0.2767 - accuracy: 0.8774 - val_loss: 0.3337 - val_accuracy: 0.8460\n",
      "Epoch 55/120\n",
      "10000/10000 [==============================] - 14s 1ms/step - loss: 0.2801 - accuracy: 0.8774 - val_loss: 0.3408 - val_accuracy: 0.8490\n",
      "Epoch 56/120\n",
      "10000/10000 [==============================] - 14s 1ms/step - loss: 0.2712 - accuracy: 0.8763 - val_loss: 0.3527 - val_accuracy: 0.8430\n",
      "Epoch 57/120\n",
      "10000/10000 [==============================] - 14s 1ms/step - loss: 0.2732 - accuracy: 0.8756 - val_loss: 0.3688 - val_accuracy: 0.8500\n",
      "Epoch 58/120\n",
      "10000/10000 [==============================] - 14s 1ms/step - loss: 0.2449 - accuracy: 0.8891 - val_loss: 0.4012 - val_accuracy: 0.8400\n",
      "Epoch 84/120\n",
      "10000/10000 [==============================] - 14s 1ms/step - loss: 0.2433 - accuracy: 0.8913 - val_loss: 0.4137 - val_accuracy: 0.8380\n"
     ]
    },
    {
     "name": "stdout",
     "output_type": "stream",
     "text": [
      "Epoch 85/120\n",
      "10000/10000 [==============================] - 14s 1ms/step - loss: 0.2464 - accuracy: 0.8892 - val_loss: 0.4014 - val_accuracy: 0.8400\n",
      "Epoch 86/120\n",
      "10000/10000 [==============================] - 14s 1ms/step - loss: 0.2430 - accuracy: 0.8911 - val_loss: 0.4234 - val_accuracy: 0.8340\n",
      "Epoch 87/120\n",
      "10000/10000 [==============================] - 14s 1ms/step - loss: 0.2471 - accuracy: 0.8889 - val_loss: 0.3833 - val_accuracy: 0.8380\n",
      "Epoch 88/120\n",
      "10000/10000 [==============================] - 14s 1ms/step - loss: 0.2406 - accuracy: 0.8926 - val_loss: 0.4017 - val_accuracy: 0.8270\n",
      "Epoch 89/120\n",
      "10000/10000 [==============================] - 14s 1ms/step - loss: 0.2345 - accuracy: 0.8954 - val_loss: 0.4185 - val_accuracy: 0.8370\n",
      "Epoch 90/120\n",
      "10000/10000 [==============================] - 14s 1ms/step - loss: 0.2416 - accuracy: 0.8933 - val_loss: 0.3902 - val_accuracy: 0.8390\n",
      "Epoch 91/120\n",
      "10000/10000 [==============================] - 14s 1ms/step - loss: 0.2363 - accuracy: 0.8942 - val_loss: 0.4336 - val_accuracy: 0.8350\n",
      "Epoch 92/120\n",
      "10000/10000 [==============================] - 14s 1ms/step - loss: 0.2401 - accuracy: 0.8945 - val_loss: 0.4000 - val_accuracy: 0.8420\n",
      "Epoch 93/120\n",
      "10000/10000 [==============================] - 14s 1ms/step - loss: 0.2189 - accuracy: 0.9037 - val_loss: 0.4732 - val_accuracy: 0.8270\n",
      "Epoch 103/120\n",
      "10000/10000 [==============================] - 14s 1ms/step - loss: 0.2184 - accuracy: 0.9024 - val_loss: 0.4542 - val_accuracy: 0.8290\n",
      "Epoch 104/120\n",
      "10000/10000 [==============================] - 14s 1ms/step - loss: 0.2233 - accuracy: 0.9018 - val_loss: 0.4417 - val_accuracy: 0.8350\n",
      "Epoch 105/120\n",
      "10000/10000 [==============================] - 14s 1ms/step - loss: 0.2186 - accuracy: 0.9045 - val_loss: 0.4642 - val_accuracy: 0.8320\n",
      "Epoch 106/120\n",
      "10000/10000 [==============================] - 14s 1ms/step - loss: 0.2237 - accuracy: 0.8999 - val_loss: 0.4633 - val_accuracy: 0.8340\n",
      "Epoch 107/120\n",
      "10000/10000 [==============================] - 14s 1ms/step - loss: 0.2154 - accuracy: 0.9055 - val_loss: 0.4440 - val_accuracy: 0.8340\n",
      "Epoch 108/120\n",
      "10000/10000 [==============================] - 14s 1ms/step - loss: 0.2101 - accuracy: 0.9078 - val_loss: 0.4885 - val_accuracy: 0.8270\n",
      "Epoch 109/120\n",
      "10000/10000 [==============================] - 14s 1ms/step - loss: 0.2155 - accuracy: 0.9050 - val_loss: 0.4735 - val_accuracy: 0.8280\n",
      "Epoch 110/120\n",
      "10000/10000 [==============================] - 14s 1ms/step - loss: 0.2243 - accuracy: 0.9035 - val_loss: 0.4651 - val_accuracy: 0.8240\n",
      "Epoch 111/120\n",
      "10000/10000 [==============================] - 14s 1ms/step - loss: 0.2258 - accuracy: 0.9035 - val_loss: 0.4700 - val_accuracy: 0.8300\n",
      "Epoch 112/120\n",
      "10000/10000 [==============================] - 14s 1ms/step - loss: 0.2144 - accuracy: 0.9051 - val_loss: 0.4554 - val_accuracy: 0.8280\n",
      "Epoch 113/120\n",
      "10000/10000 [==============================] - 14s 1ms/step - loss: 0.2121 - accuracy: 0.9034 - val_loss: 0.4721 - val_accuracy: 0.8360\n",
      "Epoch 114/120\n",
      "10000/10000 [==============================] - 14s 1ms/step - loss: 0.2090 - accuracy: 0.9051 - val_loss: 0.4882 - val_accuracy: 0.8230\n",
      "Epoch 115/120\n",
      "10000/10000 [==============================] - 14s 1ms/step - loss: 0.2060 - accuracy: 0.9092 - val_loss: 0.4716 - val_accuracy: 0.8330\n",
      "Epoch 116/120\n",
      "10000/10000 [==============================] - 14s 1ms/step - loss: 0.2074 - accuracy: 0.9094 - val_loss: 0.4609 - val_accuracy: 0.8230\n",
      "Epoch 117/120\n",
      "10000/10000 [==============================] - 14s 1ms/step - loss: 0.2081 - accuracy: 0.9125 - val_loss: 0.4978 - val_accuracy: 0.8270\n",
      "Epoch 118/120\n",
      "10000/10000 [==============================] - 14s 1ms/step - loss: 0.2154 - accuracy: 0.9083 - val_loss: 0.4731 - val_accuracy: 0.8220\n",
      "Epoch 119/120\n",
      "10000/10000 [==============================] - 17s 2ms/step - loss: 0.2074 - accuracy: 0.9091 - val_loss: 0.4703 - val_accuracy: 0.8290\n",
      "Epoch 120/120\n",
      "10000/10000 [==============================] - 16s 2ms/step - loss: 0.2078 - accuracy: 0.9081 - val_loss: 0.4744 - val_accuracy: 0.8340\n"
     ]
    }
   ],
   "source": [
    "# train\n",
    "history = model.fit([inputs_train, queries_train], answers_train,batch_size=32,epochs=120,validation_data=([inputs_test, queries_test], answers_test))"
   ]
  },
  {
   "cell_type": "markdown",
   "metadata": {},
   "source": [
    "### Saving the Model"
   ]
  },
  {
   "cell_type": "code",
   "execution_count": 57,
   "metadata": {},
   "outputs": [],
   "source": [
    "filename = 'chatbot_120_epochs.h5'\n",
    "model.save(filename)"
   ]
  },
  {
   "cell_type": "markdown",
   "metadata": {},
   "source": [
    "## Evaluating the Model\n",
    "\n",
    "### Plotting Out Training History"
   ]
  },
  {
   "cell_type": "code",
   "execution_count": 60,
   "metadata": {},
   "outputs": [
    {
     "name": "stdout",
     "output_type": "stream",
     "text": [
      "dict_keys(['val_loss', 'val_accuracy', 'loss', 'accuracy'])\n"
     ]
    },
    {
     "data": {
      "image/png": "[encoded data removed]",
      "text/plain": [
       "<Figure size 432x288 with 1 Axes>"
      ]
     },
     "metadata": {
      "needs_background": "light"
     },
     "output_type": "display_data"
    }
   ],
   "source": [
    "import matplotlib.pyplot as plt\n",
    "%matplotlib inline\n",
    "print(history.history.keys())\n",
    "# summarize history for accuracy\n",
    "plt.plot(history.history['accuracy'])\n",
    "plt.plot(history.history['val_accuracy'])\n",
    "plt.title('model accuracy')\n",
    "plt.ylabel('accuracy')\n",
    "plt.xlabel('epoch')\n",
    "plt.legend(['train', 'test'], loc='upper left')\n",
    "plt.show()"
   ]
  },
  {
   "cell_type": "markdown",
   "metadata": {},
   "source": [
    "### Evaluating on Given Test Set"
   ]
  },
  {
   "cell_type": "code",
   "execution_count": 61,
   "metadata": {},
   "outputs": [],
   "source": [
    "model.load_weights(filename)\n",
    "pred_results = model.predict(([inputs_test, queries_test]))"
   ]
  },
  {
   "cell_type": "code",
   "execution_count": 62,
   "metadata": {},
   "outputs": [
    {
     "data": {
      "text/plain": [
       "['Mary',\n",
       " 'got',\n",
       " 'the',\n",
       " 'milk',\n",
       " 'there',\n",
       " '.',\n",
       " 'John',\n",
       " 'moved',\n",
       " 'to',\n",
       " 'the',\n",
       " 'bedroom',\n",
       " '.']"
      ]
     },
     "execution_count": 62,
     "metadata": {},
     "output_type": "execute_result"
    }
   ],
   "source": [
    "test_data[0][0]"
   ]
  },
  {
   "cell_type": "code",
   "execution_count": 63,
   "metadata": {},
   "outputs": [
    {
     "name": "stdout",
     "output_type": "stream",
     "text": [
      "Mary got the milk there . John moved to the bedroom .\n"
     ]
    }
   ],
   "source": [
    "story =' '.join(word for word in test_data[0][0])\n",
    "print(story)"
   ]
  },
  {
   "cell_type": "code",
   "execution_count": 64,
   "metadata": {},
   "outputs": [
    {
     "name": "stdout",
     "output_type": "stream",
     "text": [
      "Is John in the kitchen ?\n"
     ]
    }
   ],
   "source": [
    "query = ' '.join(word for word in test_data[0][1])\n",
    "print(query)"
   ]
  },
  {
   "cell_type": "code",
   "execution_count": 65,
   "metadata": {},
   "outputs": [
    {
     "name": "stdout",
     "output_type": "stream",
     "text": [
      "True Test Answer from Data is: no\n"
     ]
    }
   ],
   "source": [
    "print(\"True Test Answer from Data is:\",test_data[0][2])"
   ]
  },
  {
   "cell_type": "code",
   "execution_count": 66,
   "metadata": {},
   "outputs": [
    {
     "name": "stdout",
     "output_type": "stream",
     "text": [
      "Predicted answer is:  no\n",
      "Probability of certainty was:  0.9999913\n"
     ]
    }
   ],
   "source": [
    "#Generate prediction from model\n",
    "val_max = np.argmax(pred_results[0])\n",
    "\n",
    "for key, val in tokenizer.word_index.items():\n",
    "    if val == val_max:\n",
    "        k = key\n",
    "\n",
    "print(\"Predicted answer is: \", k)\n",
    "print(\"Probability of certainty was: \", pred_results[0][val_max])"
   ]
  },
  {
   "cell_type": "markdown",
   "metadata": {},
   "source": [
    "## Writing Your Own Stories and Questions\n",
    "\n",
    "Remember you can only use words from the existing vocab"
   ]
  },
  {
   "cell_type": "code",
   "execution_count": 67,
   "metadata": {},
   "outputs": [
    {
     "data": {
      "text/plain": [
       "{'.',\n",
       " '?',\n",
       " 'Daniel',\n",
       " 'Is',\n",
       " 'John',\n",
       " 'Mary',\n",
       " 'Sandra',\n",
       " 'apple',\n",
       " 'back',\n",
       " 'bathroom',\n",
       " 'bedroom',\n",
       " 'discarded',\n",
       " 'down',\n",
       " 'dropped',\n",
       " 'football',\n",
       " 'garden',\n",
       " 'got',\n",
       " 'grabbed',\n",
       " 'hallway',\n",
       " 'in',\n",
       " 'journeyed',\n",
       " 'kitchen',\n",
       " 'left',\n",
       " 'milk',\n",
       " 'moved',\n",
       " 'no',\n",
       " 'office',\n",
       " 'picked',\n",
       " 'put',\n",
       " 'the',\n",
       " 'there',\n",
       " 'to',\n",
       " 'took',\n",
       " 'travelled',\n",
       " 'up',\n",
       " 'went',\n",
       " 'yes'}"
      ]
     },
     "execution_count": 67,
     "metadata": {},
     "output_type": "execute_result"
    }
   ],
   "source": [
    "vocab"
   ]
  },
  {
   "cell_type": "code",
   "execution_count": 68,
   "metadata": {},
   "outputs": [
    {
     "data": {
      "text/plain": [
       "['John',\n",
       " 'left',\n",
       " 'the',\n",
       " 'kitchen',\n",
       " '.',\n",
       " 'Sandra',\n",
       " 'dropped',\n",
       " 'the',\n",
       " 'football',\n",
       " 'in',\n",
       " 'the',\n",
       " 'garden',\n",
       " '.']"
      ]
     },
     "execution_count": 68,
     "metadata": {},
     "output_type": "execute_result"
    }
   ],
   "source": [
    "# Note the whitespace of the periods\n",
    "my_story = \"John left the kitchen . Sandra dropped the football in the garden .\"\n",
    "my_story.split()"
   ]
  },
  {
   "cell_type": "code",
   "execution_count": 69,
   "metadata": {},
   "outputs": [],
   "source": [
    "my_question = \"Is the football in the garden ?\""
   ]
  },
  {
   "cell_type": "code",
   "execution_count": 70,
   "metadata": {},
   "outputs": [
    {
     "data": {
      "text/plain": [
       "['Is', 'the', 'football', 'in', 'the', 'garden', '?']"
      ]
     },
     "execution_count": 70,
     "metadata": {},
     "output_type": "execute_result"
    }
   ],
   "source": [
    "my_question.split()"
   ]
  },
  {
   "cell_type": "code",
   "execution_count": 71,
   "metadata": {},
   "outputs": [],
   "source": [
    "mydata = [(my_story.split(),my_question.split(),'yes')]"
   ]
  },
  {
   "cell_type": "code",
   "execution_count": 72,
   "metadata": {},
   "outputs": [],
   "source": [
    "my_story,my_ques,my_ans = vectorize_stories(mydata)"
   ]
  },
  {
   "cell_type": "code",
   "execution_count": 73,
   "metadata": {},
   "outputs": [],
   "source": [
    "pred_results = model.predict(([ my_story, my_ques]))"
   ]
  },
  {
   "cell_type": "code",
   "execution_count": 74,
   "metadata": {},
   "outputs": [
    {
     "name": "stdout",
     "output_type": "stream",
     "text": [
      "Predicted answer is:  yes\n",
      "Probability of certainty was:  0.99993443\n"
     ]
    }
   ],
   "source": [
    "#Generate prediction from model\n",
    "val_max = np.argmax(pred_results[0])\n",
    "\n",
    "for key, val in tokenizer.word_index.items():\n",
    "    if val == val_max:\n",
    "        k = key\n",
    "\n",
    "print(\"Predicted answer is: \", k)\n",
    "print(\"Probability of certainty was: \", pred_results[0][val_max])"
   ]
  },
  {
   "cell_type": "markdown",
   "metadata": {},
   "source": [
    "# Great Job!"
   ]
  }
 ],
 "metadata": {
  "kernelspec": {
   "display_name": "Python 3",
   "language": "python",
   "name": "python3"
  },
  "language_info": {
   "codemirror_mode": {
    "name": "ipython",
    "version": 3
   },
   "file_extension": ".py",
   "mimetype": "text/x-python",
   "name": "python",
   "nbconvert_exporter": "python",
   "pygments_lexer": "ipython3",
   "version": "3.7.4"
  }
 },
 "nbformat": 4,
 "nbformat_minor": 2
}
